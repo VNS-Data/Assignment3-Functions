{
  "nbformat": 4,
  "nbformat_minor": 0,
  "metadata": {
    "colab": {
      "provenance": []
    },
    "kernelspec": {
      "name": "python3",
      "display_name": "Python 3"
    },
    "language_info": {
      "name": "python"
    }
  },
  "cells": [
    {
      "cell_type": "markdown",
      "source": [
        "A. What is the difference between a function and a method in Python?\n",
        "\n",
        "\n",
        "1.   Functions are reusable independent blocks of code that can be called from anywhere,\n",
        "2. Methods are tied to objects or classes and need an object or class instance to be called.\n",
        "3. Functions are called by name, while methods are accessed using dot notation\n",
        "4. function is a reuasble block of code which performs some specific task/computation\n",
        "5. Functionn operates on data which is passed as an arguement, while method operates on the associated object.\n",
        "\n"
      ],
      "metadata": {
        "id": "UwXlUj-ATps7"
      }
    },
    {
      "cell_type": "code",
      "source": [],
      "metadata": {
        "id": "Yvp1fSvYXrFl"
      },
      "execution_count": null,
      "outputs": []
    },
    {
      "cell_type": "markdown",
      "source": [
        "B. Explain the concept of function arguments and parameters in Python.\n",
        "\n",
        "*   Function arguments are certain values that are provided when a function is called. These arguments are required by the function to perform specific tasks we want it to.\n",
        "\n",
        "*  function to define the area of rectangle\n",
        "here l and b are called arguments whuch are required to  calculate the  area\n",
        "\n",
        "   \n",
        "*   A parameter is a variable declared while defining a function.\n",
        "\n",
        "* A parameter is a placeholder or just a variable without a value passed to it. A argument is the actual value passed to this variable.   \n"
      ],
      "metadata": {
        "id": "JI06blK5Wqad"
      }
    },
    {
      "cell_type": "code",
      "source": [
        "# function to define the area of rectangle\n",
        "# here l and b are called parameters while 9 and 3 are arguments.\n",
        "def area_rect(l,b):\n",
        "  return l*b"
      ],
      "metadata": {
        "id": "7sY_cOY3Tqyn"
      },
      "execution_count": 2,
      "outputs": []
    },
    {
      "cell_type": "code",
      "source": [
        "area_rect (9,3)"
      ],
      "metadata": {
        "colab": {
          "base_uri": "https://localhost:8080/"
        },
        "id": "56LSxaVYY_ZN",
        "outputId": "629052e5-cbac-49bd-e92e-d42c9d9ed025"
      },
      "execution_count": 3,
      "outputs": [
        {
          "output_type": "execute_result",
          "data": {
            "text/plain": [
              "27"
            ]
          },
          "metadata": {},
          "execution_count": 3
        }
      ]
    },
    {
      "cell_type": "markdown",
      "source": [],
      "metadata": {
        "id": "b4V3UD43ToPq"
      }
    },
    {
      "cell_type": "markdown",
      "source": [
        "What are the different ways to define and call a function in Python?\n",
        "Different Ways to Define and Call a Function in Python:\n",
        "•\tDefining a Function: In Python, you define a function using the def keyword, followed by the function name and parentheses (), which can include parameters.\n",
        "def my_function():\n",
        "    print(\"Hello, World!\")\n",
        "o\tCalling a Function: You call a function by writing its name followed by parentheses.\n",
        "my_function()  \n",
        "-- Output: Hello, World!\n",
        "•\tFunction with Parameters:\n",
        "def greet(name):\n",
        "    return f\"Hello, {name}!\"\n",
        "\n",
        "print(greet(\"Vaishnavi\"))  \n",
        "-- Output: Hello, Vaishnavi!\n",
        "\n",
        "•\tLambda Functions: These are anonymous functions created using the lambda keyword. They are generally used for short, one-off functions.\n",
        "square = lambda x: x ** 2\n",
        "print(square(5))  \n",
        "--Output: 25\n",
        "\n",
        "•\tRecursive Function: A function that calls itself.\n",
        "def factorial(n):\n",
        "    if n == 1:\n",
        "        return 1\n",
        "    else:\n",
        "        return n * factorial(n-1)\n",
        "\n",
        "print(factorial(5))  \n",
        "-- Output: 120\n"
      ],
      "metadata": {
        "id": "dUsoeieQa6q0"
      }
    },
    {
      "cell_type": "markdown",
      "source": [
        "Purpose of the return Statement in a Python Function:\n",
        "•\tThe return statement is used to exit a function and optionally pass back a value.\n",
        "o\tIf a function doesn't have a return statement, it returns None by default.\n",
        "def add(a, b):\n",
        "    return a + b\n",
        "\n",
        "result = add(3, 4)\n",
        "print(result)\n",
        "-- Output: 7\n"
      ],
      "metadata": {
        "id": "8OXjuKr6rMjk"
      }
    },
    {
      "cell_type": "markdown",
      "source": [
        "**Iterators in Python and How They Differ from Iterables:**\n",
        "•\tIterable: An object that can return an iterator, which allows you to traverse through its items. Examples include lists, tuples, and strings.\n",
        "my_list = [1, 2, 3]\n",
        "for i in my_list:\n",
        "    print(i)\n",
        "•\tIterator: An object that keeps state and produces the next item in the sequence when the next() method is called.\n",
        "o\tKey difference: Iterables are objects you can loop over, while iterators are objects that perform iteration.\n",
        "my_iter = iter(my_list)\n",
        "print(next(my_iter))  -- Output: 1\n",
        "print(next(my_iter))  -- Output: 2\n"
      ],
      "metadata": {
        "id": "uqcJ9YWGroq1"
      }
    },
    {
      "cell_type": "markdown",
      "source": [
        "Generators in Python and How They Are Defined:\n",
        "•\tGenerators: Special types of iterators defined using functions with the yield keyword. Each time a generator's __next__() method is called, the function resumes execution at the yield statement, returning the value.\n",
        "def count_up_to(max):\n",
        "    count = 1\n",
        "    while count <= max:\n",
        "        yield count\n",
        "        count += 1\n",
        "\n",
        "generator = count_up_to(3)\n",
        "print(next(generator))  # Output: 1\n",
        "print(next(generator))  # Output: 2\n"
      ],
      "metadata": {
        "id": "xKShmgeFsIl_"
      }
    },
    {
      "cell_type": "markdown",
      "source": [
        "Advantages of Using Generators Over Regular Functions:\n",
        "•\tMemory Efficient: Generators don't store all values in memory at once, but generate items one by one, making them memory-efficient for large data.\n",
        "•\tLazy Evaluation: They compute values on the fly and provide them only when needed.\n",
        "•\tSimpler Code: Generators allow you to implement sequences without using complex logic or state variables.\n"
      ],
      "metadata": {
        "id": "QvBQY7OPsqy8"
      }
    },
    {
      "cell_type": "markdown",
      "source": [
        "Lambda Function in Python and When It Is Typically Used:\n",
        "•\tLambda Function: A small anonymous function that is defined using the lambda keyword. It can take any number of arguments, but only one expression.\n",
        "multiply = lambda x, y: x * y\n",
        "print(multiply(3, 4))  # Output: 12\n",
        "•\tTypical Usage: Lambda functions are often used  where a small function is needed for a short period, such as in map(), filter(), and reduce() functions\n"
      ],
      "metadata": {
        "id": "Bu-vYekItIHB"
      }
    },
    {
      "cell_type": "markdown",
      "source": [
        ". Purpose and Usage of the map() Function in Python:\n",
        "•\tPurpose: The map() function applies a given function to all items in an input iterable , and returns an iterator.\n",
        "numbers = [1, 2, 3, 4]\n",
        "squares = map(lambda x: x ** 2, numbers)\n",
        "print(list(squares))  # Output: [1, 4, 9, 16]\n",
        "•\tUsage: It’s typically used to transform or process a sequence of elements in a concise way.\n"
      ],
      "metadata": {
        "id": "icWfALNRtZsD"
      }
    },
    {
      "cell_type": "code",
      "source": [
        "# Python function to return the sum of all even numbers in a list:\n",
        "def sum_even(n):\n",
        "    even_numbers = [num for num in n if num % 2 == 0]\n",
        "    return sum(even_numbers)\n",
        ""
      ],
      "metadata": {
        "id": "3K6_Oe3fuGRU"
      },
      "execution_count": 4,
      "outputs": []
    },
    {
      "cell_type": "code",
      "source": [
        "n = [1, 2, 3, 4, 5, 6]\n",
        "sum_even(n)"
      ],
      "metadata": {
        "colab": {
          "base_uri": "https://localhost:8080/"
        },
        "id": "jc0_gZW0ug5G",
        "outputId": "202efcad-167a-463f-d3f7-640aec682294"
      },
      "execution_count": 5,
      "outputs": [
        {
          "output_type": "execute_result",
          "data": {
            "text/plain": [
              "12"
            ]
          },
          "metadata": {},
          "execution_count": 5
        }
      ]
    },
    {
      "cell_type": "code",
      "source": [
        "# Python function to return the reverse of a string:\n",
        "def reverse_string(string):\n",
        "    return string[::-1]\n"
      ],
      "metadata": {
        "id": "QY5Sqg4Quv-x"
      },
      "execution_count": 6,
      "outputs": []
    },
    {
      "cell_type": "code",
      "source": [
        "string=\"Vaishnavi\"\n",
        "print(reverse_string(string))"
      ],
      "metadata": {
        "colab": {
          "base_uri": "https://localhost:8080/"
        },
        "id": "dbUohWwwu_MF",
        "outputId": "3f23cca1-1165-4389-fdfe-11f69a563703"
      },
      "execution_count": 7,
      "outputs": [
        {
          "output_type": "stream",
          "name": "stdout",
          "text": [
            "ivanhsiaV\n"
          ]
        }
      ]
    },
    {
      "cell_type": "code",
      "source": [
        " #Python function to return a new list containing the squares of each number in a list:\n",
        " def square_list(n):\n",
        "    return [num ** 2 for num in n]"
      ],
      "metadata": {
        "id": "CSupGZM6vOJr"
      },
      "execution_count": 8,
      "outputs": []
    },
    {
      "cell_type": "code",
      "source": [
        "n=[31,21,19,3]\n",
        "print(square_list(n))"
      ],
      "metadata": {
        "colab": {
          "base_uri": "https://localhost:8080/"
        },
        "id": "sXZpfr5Fvg0r",
        "outputId": "7f13370f-48a0-4d2a-94df-4c6e4a7fe663"
      },
      "execution_count": 9,
      "outputs": [
        {
          "output_type": "stream",
          "name": "stdout",
          "text": [
            "[961, 441, 361, 9]\n"
          ]
        }
      ]
    },
    {
      "cell_type": "code",
      "source": [
        "#Python function to check if a number is prime (from 1 to 200):\n",
        "def is_prime(num):\n",
        "    if num <= 1:\n",
        "        return False\n",
        "    for i in range(2, int(num**0.5) + 1):\n",
        "        if num % i == 0:\n",
        "            return False\n",
        "    return True\n",
        "\n"
      ],
      "metadata": {
        "id": "PyfCw_zNvoo2"
      },
      "execution_count": 10,
      "outputs": []
    },
    {
      "cell_type": "code",
      "source": [
        "print(is_prime(17))"
      ],
      "metadata": {
        "colab": {
          "base_uri": "https://localhost:8080/"
        },
        "id": "O8uIZFvZ0it3",
        "outputId": "cf93f3a9-7b60-4a32-f41e-497cfa59e4f4"
      },
      "execution_count": 11,
      "outputs": [
        {
          "output_type": "stream",
          "name": "stdout",
          "text": [
            "True\n"
          ]
        }
      ]
    },
    {
      "cell_type": "code",
      "source": [
        "# Iterator class for generating the Fibonacci sequence up to a specified number\n",
        "# of terms:\n",
        "fibonacci = lambda n: n if n <= 1 else fibonacci(n-1) +  fibonacci(n-2)\n",
        "sequence = [fibonacci(i) for i in range(10)]\n",
        "print(sequence)"
      ],
      "metadata": {
        "colab": {
          "base_uri": "https://localhost:8080/"
        },
        "id": "7fYiBonM0vQ3",
        "outputId": "cdfa01b2-3c2d-48b0-b4c0-6cb2e9412774"
      },
      "execution_count": 14,
      "outputs": [
        {
          "output_type": "stream",
          "name": "stdout",
          "text": [
            "[0, 1, 1, 2, 3, 5, 8, 13, 21, 34]\n"
          ]
        }
      ]
    },
    {
      "cell_type": "code",
      "source": [
        "#  Generator function that yields powers of 2 up to a given exponent:\n",
        "def powers_of_two(exponent):\n",
        "    for i in range(exponent + 1):\n",
        "        yield 2 ** i\n",
        "for power in powers_of_two(5):\n",
        "          print(power)"
      ],
      "metadata": {
        "colab": {
          "base_uri": "https://localhost:8080/"
        },
        "id": "VqIuCL881jfu",
        "outputId": "0550eef4-4259-467b-89dd-b81e5abb335f"
      },
      "execution_count": 19,
      "outputs": [
        {
          "output_type": "stream",
          "name": "stdout",
          "text": [
            "1\n",
            "2\n",
            "4\n",
            "8\n",
            "16\n",
            "32\n"
          ]
        }
      ]
    },
    {
      "cell_type": "code",
      "source": [
        "def file_reader(file_name):\n",
        "    with open(file_name, 'r') as file:\n",
        "        for line in file:\n",
        "            yield line.strip()\n",
        "for line in file_reader('/Shared_File_Table.txt'):\n",
        "     print(line)\n",
        ""
      ],
      "metadata": {
        "colab": {
          "base_uri": "https://localhost:8080/"
        },
        "id": "A38Mk2j02L9D",
        "outputId": "a2687a4e-ff3f-4637-c400-d161a7163179"
      },
      "execution_count": 23,
      "outputs": [
        {
          "output_type": "stream",
          "name": "stdout",
          "text": [
            "USE [PickTo]\n",
            "GO\n",
            "\n",
            "/****** Object:  Table [dbo].[Shared_File]    Script Date: 11/12/2022 11:33:30 ******/\n",
            "IF  EXISTS (SELECT * FROM sys.objects WHERE object_id = OBJECT_ID(N'[dbo].[Shared_File]') AND type in (N'U'))\n",
            "DROP TABLE [dbo].[Shared_File]\n",
            "GO\n",
            "\n",
            "USE [PickTo]\n",
            "GO\n",
            "\n",
            "/****** Object:  Table [dbo].[Shared_File]    Script Date: 11/12/2022 11:33:30 ******/\n",
            "SET ANSI_NULLS ON\n",
            "GO\n",
            "\n",
            "SET QUOTED_IDENTIFIER ON\n",
            "GO\n",
            "\n",
            "CREATE TABLE [dbo].[Shared_File](\n",
            "[E3TimeStamp] [datetime] NOT NULL,\n",
            "[mQQ] [int] IDENTITY(1,1) NOT NULL,\n",
            "[MODEL] [nvarchar](20) NOT NULL,\n",
            "[PART_NO] [nvarchar](30) NOT NULL,\n",
            "[LOCATION] [nvarchar](30) NOT NULL,\n",
            "[QTY] [int] NOT NULL\n",
            ") ON [PRIMARY]\n",
            "\n",
            "GO\n"
          ]
        }
      ]
    },
    {
      "cell_type": "code",
      "source": [
        "#Lambda function to sort a list of tuples based on the second element of each tuple:\n",
        "data = [(1, 5), (3, 2), (2, 8), (4, 1)]\n",
        "sorted_data = sorted(data, key=lambda x: x[1])\n",
        "print(sorted_data)"
      ],
      "metadata": {
        "colab": {
          "base_uri": "https://localhost:8080/"
        },
        "id": "0A-XVi254tQm",
        "outputId": "261f4b78-4952-4dae-aaf9-b08d05b9f4e0"
      },
      "execution_count": 24,
      "outputs": [
        {
          "output_type": "stream",
          "name": "stdout",
          "text": [
            "[(4, 1), (3, 2), (1, 5), (2, 8)]\n"
          ]
        }
      ]
    },
    {
      "cell_type": "code",
      "source": [
        "#Python program using map() to convert a list of temperatures from Celsius to Fahrenheit:\n",
        "def celsius_to_fahrenheit(celsius):\n",
        "    return (celsius * 9/5) + 32\n",
        "\n",
        "temperatures_celsius = [0, 20, 30, 100]\n",
        "temperatures_fahrenheit = list(map(celsius_to_fahrenheit, temperatures_celsius))\n",
        "\n",
        "print(temperatures_fahrenheit)"
      ],
      "metadata": {
        "colab": {
          "base_uri": "https://localhost:8080/"
        },
        "id": "cQqqGPaS5ZF6",
        "outputId": "05392613-51d8-47b4-98ab-83c58bf2d6be"
      },
      "execution_count": 25,
      "outputs": [
        {
          "output_type": "stream",
          "name": "stdout",
          "text": [
            "[32.0, 68.0, 86.0, 212.0]\n"
          ]
        }
      ]
    },
    {
      "cell_type": "code",
      "source": [
        "#Python program using filter() to remove all vowels from a string:\n",
        "def remove_vowels(s):\n",
        "    vowels = 'aeiouAEIOU'\n",
        "    return ''.join(filter(lambda char: char not in vowels, s))\n",
        "\n"
      ],
      "metadata": {
        "id": "UHNKtnkg5019"
      },
      "execution_count": 27,
      "outputs": []
    },
    {
      "cell_type": "code",
      "source": [
        "\n",
        "text = \"Hello, Vaishnavi!\"\n",
        "result = remove_vowels(text)\n",
        "print(result)"
      ],
      "metadata": {
        "colab": {
          "base_uri": "https://localhost:8080/"
        },
        "id": "6u_nk0Xt6S4_",
        "outputId": "c85a6d04-5554-4071-e331-d079a9f79d8f"
      },
      "execution_count": 28,
      "outputs": [
        {
          "output_type": "stream",
          "name": "stdout",
          "text": [
            "Hll, Vshnv!\n"
          ]
        }
      ]
    },
    {
      "cell_type": "code",
      "source": [
        "#Python program for an accounting routine using lambda and map()\n",
        "orders = [\n",
        "    [34587, \"Learning Python\", 4, 40.95],\n",
        "    [98762, \"Programming in C\", 5, 56.80],\n",
        "    [77226, \"Python Cookbook\", 3, 32.95],\n",
        "    [88112, \"Machine Learning\", 3, 24.99]\n",
        "]"
      ],
      "metadata": {
        "id": "S2HVjHK26bH4"
      },
      "execution_count": 29,
      "outputs": []
    },
    {
      "cell_type": "code",
      "source": [
        "order_totals = list(map(lambda x: (x[0], x[2] * x[3] + 10 if x[2] * x[3] < 100 else x[2] * x[3]), orders))\n",
        "\n",
        "print(order_totals)"
      ],
      "metadata": {
        "colab": {
          "base_uri": "https://localhost:8080/"
        },
        "id": "Fn2dAdtn6lyg",
        "outputId": "bdaba5b3-04ba-4b9e-9901-141ef4d6921c"
      },
      "execution_count": 30,
      "outputs": [
        {
          "output_type": "stream",
          "name": "stdout",
          "text": [
            "[(34587, 163.8), (98762, 284.0), (77226, 108.85000000000001), (88112, 84.97)]\n"
          ]
        }
      ]
    },
    {
      "cell_type": "code",
      "source": [],
      "metadata": {
        "id": "F9lazDTf6pI6"
      },
      "execution_count": null,
      "outputs": []
    }
  ]
}